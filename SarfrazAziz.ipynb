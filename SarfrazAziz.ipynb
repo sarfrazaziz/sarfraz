{
 "cells": [
  {
   "cell_type": "code",
   "execution_count": 1,
   "metadata": {},
   "outputs": [],
   "source": [
    "female_path = \"C:/Users/sarfr/Desktop/imagep/Training/female\"\n",
    "male_path = \"C:/Users/sarfr/Desktop/imagep/Training/male\""
   ]
  },
  {
   "cell_type": "code",
   "execution_count": 2,
   "metadata": {
    "collapsed": true
   },
   "outputs": [],
   "source": [
    "\n",
    "import tensorflow as tf\n",
    "import numpy as np\n",
    "import os\n",
    "\n",
    "from keras.optimizer_v1 import RMSprop\n",
    "from keras_preprocessing.image import ImageDataGenerator\n",
    "%matplotlib inline\n",
    "import matplotlib.pyplot as plt\n",
    "import matplotlib.image as mpimg\n",
    "def getNumPics():\n",
    "    print(\"The Number Of Female Pictures =\",len(os.listdir(female_path)))\n",
    "    print(\"The Number Of Male Pictures =\",len(os.listdir(male_path)))\n",
    "\n",
    "def getNamePic(index,gender):\n",
    "    if gender == 'm' or gender == 'M':\n",
    "        female_name = os.listdir(female_path)\n",
    "        print(female_name[index])\n",
    "    elif gender == 'f' or gender == 'F':\n",
    "        male_name = os.listdir(male_path)\n",
    "        print(male_name[index])\n",
    "    else:\n",
    "        print(\"Invalid Input\")\n",
    "\n",
    "def drawPics(index):#draw some pictures(male and female) in the directory from index\n",
    "\n",
    "    rows = 4\n",
    "    cols = 4\n",
    "    fig = plt.gcf()\n",
    "    fig.set_size_inches(cols * 4, rows * 4)\n",
    "\n",
    "    index += 8\n",
    "    female_name = os.listdir(female_path)\n",
    "    male_name = os.listdir(male_path)\n",
    "    next_male_pic = [os.path.join(male_path, fname)\n",
    "                for fname in male_name[index-8:index]]\n",
    "    next_female_pic = [os.path.join(female_path, fname)\n",
    "                for fname in female_name[index-8:index]]\n",
    "\n",
    "    for i, img_path in enumerate(next_male_pic+next_female_pic):\n",
    "        # Set up subplot; subplot indices start at 1\n",
    "        sp = plt.subplot(rows, cols, i + 1)\n",
    "        sp.axis('Off') # Don't show axes (or gridlines)\n",
    "\n",
    "        img = mpimg.imread(img_path)\n",
    "        plt.imshow(img)\n",
    "\n",
    "    plt.show()\n",
    "\n",
    "def drawSoloPic(path):\n",
    "    rows = 4\n",
    "    cols = 4\n",
    "    fig = plt.gcf()\n",
    "    fig.set_size_inches(cols * 4, rows * 4)\n",
    "    sp = plt.subplot(cols, rows, 1)\n",
    "    sp.axis('Off') # Don't show axes (or gridlines)\n",
    "\n",
    "    img = mpimg.imread(path)\n",
    "    plt.imshow(img)\n",
    "\n",
    "    plt.show()"
   ]
  },
  {
   "cell_type": "code",
   "execution_count": 3,
   "metadata": {
    "collapsed": false,
    "pycharm": {
     "name": "#%%\n"
    }
   },
   "outputs": [],
   "source": [
    "import os\n",
    "male_path = os.path.join('./Train/Male')\n",
    "female_path = os.path.join('./Train/Female')"
   ]
  },
  {
   "cell_type": "code",
   "execution_count": 4,
   "metadata": {
    "collapsed": false,
    "pycharm": {
     "name": "#%%\n"
    }
   },
   "outputs": [],
   "source": [
    "#getNumPics()\n",
    "#getNamePic(5,'f')\n",
    "#drawPics(0)"
   ]
  },
  {
   "cell_type": "code",
   "execution_count": 5,
   "metadata": {
    "collapsed": false,
    "pycharm": {
     "name": "#%%\n"
    }
   },
   "outputs": [
    {
     "name": "stdout",
     "output_type": "stream",
     "text": [
      "Model: \"sequential\"\n",
      "_________________________________________________________________\n",
      "Layer (type)                 Output Shape              Param #   \n",
      "=================================================================\n",
      "conv2d (Conv2D)              (None, 126, 126, 16)      448       \n",
      "_________________________________________________________________\n",
      "max_pooling2d (MaxPooling2D) (None, 63, 63, 16)        0         \n",
      "_________________________________________________________________\n",
      "conv2d_1 (Conv2D)            (None, 61, 61, 32)        4640      \n",
      "_________________________________________________________________\n",
      "max_pooling2d_1 (MaxPooling2 (None, 30, 30, 32)        0         \n",
      "_________________________________________________________________\n",
      "conv2d_2 (Conv2D)            (None, 28, 28, 32)        9248      \n",
      "_________________________________________________________________\n",
      "max_pooling2d_2 (MaxPooling2 (None, 14, 14, 32)        0         \n",
      "_________________________________________________________________\n",
      "conv2d_3 (Conv2D)            (None, 12, 12, 64)        18496     \n",
      "_________________________________________________________________\n",
      "max_pooling2d_3 (MaxPooling2 (None, 6, 6, 64)          0         \n",
      "_________________________________________________________________\n",
      "conv2d_4 (Conv2D)            (None, 4, 4, 64)          36928     \n",
      "_________________________________________________________________\n",
      "max_pooling2d_4 (MaxPooling2 (None, 2, 2, 64)          0         \n",
      "_________________________________________________________________\n",
      "flatten (Flatten)            (None, 256)               0         \n",
      "_________________________________________________________________\n",
      "dense (Dense)                (None, 128)               32896     \n",
      "_________________________________________________________________\n",
      "dense_1 (Dense)              (None, 1)                 129       \n",
      "=================================================================\n",
      "Total params: 102,785\n",
      "Trainable params: 102,785\n",
      "Non-trainable params: 0\n",
      "_________________________________________________________________\n"
     ]
    }
   ],
   "source": [
    "import tensorflow as tf\n",
    "model = tf.keras.models.Sequential([\n",
    "    tf.keras.layers.Conv2D(16,(3,3),activation='relu',input_shape=(128,128,3)),\n",
    "    tf.keras.layers.MaxPooling2D(2,2),\n",
    "    tf.keras.layers.Conv2D(32,(3,3),activation='relu'),\n",
    "    tf.keras.layers.MaxPooling2D(2,2),\n",
    "    tf.keras.layers.Conv2D(32,(3,3),activation='relu'),\n",
    "    tf.keras.layers.MaxPooling2D(2,2),\n",
    "    tf.keras.layers.Conv2D(64,(3,3),activation='relu'),\n",
    "    tf.keras.layers.MaxPooling2D(2,2),\n",
    "    tf.keras.layers.Conv2D(64,(3,3),activation='relu'),\n",
    "    tf.keras.layers.MaxPooling2D(2,2),\n",
    "    tf.keras.layers.Flatten(),\n",
    "    tf.keras.layers.Dense(128,activation='relu'),\n",
    "    tf.keras.layers.Dense(1,activation='sigmoid')\n",
    "])\n",
    "model.summary()"
   ]
  },
  {
   "cell_type": "code",
   "execution_count": 6,
   "metadata": {
    "collapsed": false,
    "pycharm": {
     "name": "#%%\n"
    }
   },
   "outputs": [],
   "source": [
    "from tensorflow import *\n",
    "model.compile(loss='binary_crossentropy',\n",
    "              optimizer='RMSprop',\n",
    "              metrics=['accuracy'])"
   ]
  },
  {
   "cell_type": "code",
   "execution_count": 7,
   "metadata": {
    "collapsed": false,
    "pycharm": {
     "name": "#%%\n"
    }
   },
   "outputs": [
    {
     "name": "stdout",
     "output_type": "stream",
     "text": [
      "Found 47009 images belonging to 2 classes.\n"
     ]
    }
   ],
   "source": [
    "from tensorflow import *\n",
    "datagen = ImageDataGenerator(rescale=1/255)\n",
    "\n",
    "train_generator = datagen.flow_from_directory(\n",
    "        'C:/Users/sarfr/Desktop/imagep/Training',  # This is the source directory for training images\n",
    "        target_size=(128, 128),  # All images will be resized to 128 x 128\n",
    "        batch_size=256,\n",
    "        # Since you used binary_crossentropy loss, you need binary labels\n",
    "        class_mode='binary')"
   ]
  },
  {
   "cell_type": "code",
   "execution_count": 8,
   "metadata": {
    "collapsed": false,
    "pycharm": {
     "name": "#%%\n"
    }
   },
   "outputs": [
    {
     "name": "stdout",
     "output_type": "stream",
     "text": [
      "Epoch 1/10\n",
      "70/70 [==============================] - 310s 4s/step - loss: 0.6471 - accuracy: 0.6036\n",
      "Epoch 2/10\n",
      "70/70 [==============================] - 316s 5s/step - loss: 0.3922 - accuracy: 0.8277\n",
      "Epoch 3/10\n",
      "70/70 [==============================] - 390s 6s/step - loss: 0.2769 - accuracy: 0.8914\n",
      "Epoch 4/10\n",
      "70/70 [==============================] - 374s 5s/step - loss: 0.2296 - accuracy: 0.9084\n",
      "Epoch 5/10\n",
      "70/70 [==============================] - 374s 5s/step - loss: 0.1962 - accuracy: 0.9263\n",
      "Epoch 6/10\n",
      "70/70 [==============================] - 344s 5s/step - loss: 0.1734 - accuracy: 0.9353\n",
      "Epoch 7/10\n",
      "70/70 [==============================] - 309s 4s/step - loss: 0.1683 - accuracy: 0.9377\n",
      "Epoch 8/10\n",
      "70/70 [==============================] - 349s 5s/step - loss: 0.1566 - accuracy: 0.9434\n",
      "Epoch 9/10\n",
      "70/70 [==============================] - 302s 4s/step - loss: 0.1513 - accuracy: 0.9443\n",
      "Epoch 10/10\n",
      "70/70 [==============================] - 247s 4s/step - loss: 0.1397 - accuracy: 0.9474\n"
     ]
    }
   ],
   "source": [
    "history = model.fit(\n",
    "      train_generator,\n",
    "      steps_per_epoch=70,\n",
    "      epochs=10)"
   ]
  },
  {
   "cell_type": "code",
   "execution_count": 13,
   "metadata": {
    "collapsed": false,
    "pycharm": {
     "name": "#%%\n"
    }
   },
   "outputs": [
    {
     "data": {
      "image/png": "[encoded data removed]",
      "text/plain": [
       "<Figure size 1152x1152 with 1 Axes>"
      ]
     },
     "metadata": {
      "needs_background": "light"
     },
     "output_type": "display_data"
    },
    {
     "name": "stdout",
     "output_type": "stream",
     "text": [
      "Male---------- array([77.12284], dtype=float32)\n"
     ]
    }
   ],
   "source": [
    "import numpy as np\n",
    "from keras.preprocessing import image\n",
    "\n",
    "# predicting images\n",
    "#path = filedialog.askopenfilename()\n",
    "path = 'Capture.PNG'\n",
    "img = image.load_img(path, target_size=(128, 128))\n",
    "x = image.img_to_array(img)\n",
    "x /= 255\n",
    "x = np.expand_dims(x, axis=0)\n",
    "\n",
    "images = np.vstack([x])\n",
    "classes = model.predict(images, batch_size=1)\n",
    "drawSoloPic(path)\n",
    "if classes[0]>0.5:\n",
    "    print(\"Male----------\",classes[0]*100)\n",
    "else:\n",
    "    print(\"Female----------\",100-classes[0]*100)\n",
    "\n"
   ]
  }
 ],
 "metadata": {
  "kernelspec": {
   "display_name": "Python 3",
   "language": "python",
   "name": "python3"
  },
  "language_info": {
   "codemirror_mode": {
    "name": "ipython",
    "version": 3
   },
   "file_extension": ".py",
   "mimetype": "text/x-python",
   "name": "python",
   "nbconvert_exporter": "python",
   "pygments_lexer": "ipython3",
   "version": "3.6.8"
  }
 },
 "nbformat": 4,
 "nbformat_minor": 0
}
